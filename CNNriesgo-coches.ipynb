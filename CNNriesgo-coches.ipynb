{
 "cells": [
  {
   "cell_type": "markdown",
   "id": "84a6141b",
   "metadata": {},
   "source": []
  },
  {
   "cell_type": "code",
   "execution_count": 1,
   "id": "b094c2f2",
   "metadata": {},
   "outputs": [],
   "source": [
    "import numpy as np\n",
    "import os\n",
    "import re\n",
    "import matplotlib.pyplot as plt\n",
    "%matplotlib inline\n",
    "from sklearn.model_selection import train_test_split\n",
    "from sklearn.metrics import classification_report\n",
    "import keras\n",
    "import tensorflow as tf\n",
    "from tensorflow.keras.utils import to_categorical\n",
    "from keras.models import Sequential,Model\n",
    "from tensorflow.keras.layers import Input\n",
    "from keras.layers import Dense, Dropout, Flatten\n",
    "#from keras.layers import Conv2D, MaxPooling2D\n",
    "#from tensorflow.keras.models import Sequential\n",
    "from tensorflow.keras.layers import (\n",
    "    BatchNormalization, SeparableConv2D, MaxPooling2D, Activation, Flatten, Dropout, Dense, Conv2D\n",
    ")\n",
    "from keras.layers import LeakyReLU"
   ]
  },
  {
   "cell_type": "markdown",
   "id": "4fde48b3",
   "metadata": {},
   "source": [
    "# Leer imágenes \n",
    "\n",
    "Este código está diseñado para recorrer un directorio específico y sus subdirectorios, leer todas las imágenes con extensiones .jpg, .jpeg, .png, .bmp, o .tiff, y almacenar información sobre estas imágenes y los directorios donde se encuentran."
   ]
  },
  {
   "cell_type": "code",
   "execution_count": 3,
   "id": "7146a571",
   "metadata": {},
   "outputs": [
    {
     "name": "stderr",
     "output_type": "stream",
     "text": [
      "<>:14: SyntaxWarning: invalid escape sequence '\\.'\n",
      "<>:14: SyntaxWarning: invalid escape sequence '\\.'\n",
      "C:\\Users\\rbece\\AppData\\Local\\Temp\\ipykernel_16920\\1679916612.py:14: SyntaxWarning: invalid escape sequence '\\.'\n",
      "  if re.search(\"\\.(jpg|jpeg|png|bmp|tiff)$\", filename):\n"
     ]
    },
    {
     "name": "stdout",
     "output_type": "stream",
     "text": [
      "leyendo imagenes de  C:/Users/rbece/Documents/iaP/dataset-coches\\\n",
      "C:/Users/rbece/Documents/iaP/dataset-coches\\Bronco-sport 1\n",
      "C:/Users/rbece/Documents/iaP/dataset-coches\\Jetta 18106\n",
      "C:/Users/rbece/Documents/iaP/dataset-coches\\Porsche 19768\n",
      "C:/Users/rbece/Documents/iaP/dataset-coches\\Spark 18712\n",
      "C:/Users/rbece/Documents/iaP/dataset-coches\\Vocho 22992\n",
      "Directorios leidos: 5\n",
      "Imagenes en cada directorio [18107, 19768, 18712, 22992, 16921]\n",
      "suma Total de imagenes en subdirs: 96500\n"
     ]
    }
   ],
   "source": [
    "dirname = os.path.join(os.getcwd(),'C:/Users/rbece/Documents/iaP/dataset-coches')\n",
    "imgpath = dirname + os.sep \n",
    "\n",
    "images = []\n",
    "directories = []\n",
    "dircount = []\n",
    "prevRoot=''\n",
    "cant=0\n",
    "\n",
    "print(\"leyendo imagenes de \",imgpath)\n",
    "\n",
    "for root, dirnames, filenames in os.walk(imgpath):\n",
    "    for filename in filenames:\n",
    "        if re.search(\"\\.(jpg|jpeg|png|bmp|tiff)$\", filename):\n",
    "            cant=cant+1\n",
    "            filepath = os.path.join(root, filename)\n",
    "            image = plt.imread(filepath)\n",
    "            if(len(image.shape)==3):\n",
    "                \n",
    "                images.append(image)\n",
    "            b = \"Leyendo...\" + str(cant)\n",
    "            print (b, end=\"\\r\")\n",
    "            if prevRoot !=root:\n",
    "                print(root, cant)\n",
    "                prevRoot=root\n",
    "                directories.append(root)\n",
    "                dircount.append(cant)\n",
    "                cant=0\n",
    "dircount.append(cant)\n",
    "\n",
    "dircount = dircount[1:]\n",
    "dircount[0]=dircount[0]+1\n",
    "print('Directorios leidos:',len(directories))\n",
    "print(\"Imagenes en cada directorio\", dircount)\n",
    "print('suma Total de imagenes en subdirs:',sum(dircount))"
   ]
  },
  {
   "cell_type": "markdown",
   "id": "273d4221",
   "metadata": {},
   "source": [
    "# Generación de Etiquetas \n",
    "\n",
    "Esta sección del código está asignando una etiqueta numérica a cada imagen basada en el directorio del que proviene. Si un directorio tiene 5 imágenes, todas esas imágenes tendrán la misma etiqueta (por ejemplo, 0), y luego la etiqueta cambiará para el próximo directorio. Esto es útil para clasificar las imágenes según sus directorios de origen."
   ]
  },
  {
   "cell_type": "code",
   "execution_count": null,
   "id": "b68fc058",
   "metadata": {},
   "outputs": [],
   "source": [
    "labels=[]\n",
    "indice=0\n",
    "for cantidad in dircount:\n",
    "    for i in range(cantidad):\n",
    "        labels.append(indice)\n",
    "    indice=indice+1\n",
    "print(\"Cantidad etiquetas creadas: \",len(labels))"
   ]
  },
  {
   "cell_type": "markdown",
   "id": "9b3715b6",
   "metadata": {},
   "source": [
    "Esta sección del código permite identificar y almacenar los nombres de los subdirectorios de manera organizada, lo cual puede ser útil para el análisis posterior o para referenciar los datos procesados."
   ]
  },
  {
   "cell_type": "code",
   "execution_count": null,
   "id": "46a8e8b9",
   "metadata": {},
   "outputs": [],
   "source": [
    "sriesgos=[]\n",
    "indice=0\n",
    "for directorio in directories:\n",
    "    name = directorio.split(os.sep)\n",
    "    print(indice , name[len(name)-1])\n",
    "    sriesgos.append(name[len(name)-1])\n",
    "    indice=indice+1"
   ]
  },
  {
   "cell_type": "markdown",
   "id": "065bea08",
   "metadata": {},
   "source": [
    "Esta sección del código convierte las listas de etiquetas e imágenes en arreglos de NumPy para facilitar su manipulación. Luego, identifica las clases únicas presentes en las etiquetas y calcula el número total de clases, imprimiendo esta información. Esto es útil para entender la distribución de las clases en el conjunto de datos y preparar los datos para análisis o entrenamiento de modelos."
   ]
  },
  {
   "cell_type": "code",
   "execution_count": null,
   "id": "0433bc93",
   "metadata": {},
   "outputs": [],
   "source": [
    "y = np.array(labels)\n",
    "X = np.array(images, dtype=np.uint8) #convierto de lista a numpy\n",
    "\n",
    "classes = np.unique(y)\n",
    "nClasses = len(classes)\n",
    "print('Total number of outputs : ', nClasses)\n",
    "print('Output classes : ', classes)"
   ]
  },
  {
   "cell_type": "markdown",
   "id": "61a7d714",
   "metadata": {},
   "source": [
    "Esta sección del código divide el conjunto de datos en dos partes: datos de entrenamiento (80%) y datos de prueba (20%). Luego, imprime las dimensiones de estos conjuntos de datos. Esta división es crucial en el proceso de entrenamiento y evaluación de modelos de aprendizaje automático, ya que permite evaluar el rendimiento del modelo en datos no vistos durante el entrenamiento."
   ]
  },
  {
   "cell_type": "code",
   "execution_count": 16,
   "id": "a2616370",
   "metadata": {},
   "outputs": [
    {
     "name": "stdout",
     "output_type": "stream",
     "text": [
      "Training data shape :  (77200, 21, 37, 3) (77200,)\n",
      "Testing data shape :  (19300, 21, 37, 3) (19300,)\n"
     ]
    }
   ],
   "source": [
    "train_X,test_X,train_Y,test_Y = train_test_split(X,y,test_size=0.2)\n",
    "print('Training data shape : ', train_X.shape, train_Y.shape)\n",
    "print('Testing data shape : ', test_X.shape, test_Y.shape)"
   ]
  },
  {
   "cell_type": "markdown",
   "id": "1fa84503",
   "metadata": {},
   "source": [
    "Esta sección del código utiliza Matplotlib para mostrar las primeras imágenes de los conjuntos de datos de entrenamiento y de prueba, junto con sus etiquetas correspondientes."
   ]
  },
  {
   "cell_type": "code",
   "execution_count": 19,
   "id": "c01b1c78",
   "metadata": {},
   "outputs": [
    {
     "data": {
      "text/plain": [
       "Text(0.5, 1.0, 'Ground Truth : 1')"
      ]
     },
     "execution_count": 19,
     "metadata": {},
     "output_type": "execute_result"
    }
   ],
   "source": [
    "plt.figure(figsize=[16,9])\n",
    "\n",
    "# Display the first image in training data\n",
    "plt.subplot(121)\n",
    "plt.imshow(train_X[0,:,:], cmap='gray')\n",
    "plt.title(\"Ground Truth : {}\".format(train_Y[0]))\n",
    "\n",
    "# Display the first image in testing data\n",
    "plt.subplot(122)\n",
    "plt.imshow(test_X[0,:,:], cmap='gray')\n",
    "plt.title(\"Ground Truth : {}\".format(test_Y[0]))"
   ]
  },
  {
   "cell_type": "markdown",
   "id": "efd95124",
   "metadata": {},
   "source": [
    "Esta sección del código convierte los datos de imágenes a tipo de dato float32 y normaliza los valores de píxel para que estén en el rango [0, 1]. Luego, visualiza una imagen del conjunto de datos de prueba. La normalización es crucial para el entrenamiento efectivo de modelos de aprendizaje automático."
   ]
  },
  {
   "cell_type": "code",
   "execution_count": 22,
   "id": "cb879f38",
   "metadata": {},
   "outputs": [
    {
     "data": {
      "text/plain": [
       "<matplotlib.image.AxesImage at 0x1b050d63a40>"
      ]
     },
     "execution_count": 22,
     "metadata": {},
     "output_type": "execute_result"
    }
   ],
   "source": [
    "rain_X = train_X.astype('float32')\n",
    "test_X = test_X.astype('float32')\n",
    "train_X = train_X/255.\n",
    "test_X = test_X/255.\n",
    "plt.imshow(test_X[0,:,:])"
   ]
  },
  {
   "cell_type": "markdown",
   "id": "a6b36b8e",
   "metadata": {},
   "source": [
    "Esta sección del código convierte las etiquetas de clase en formato entero a un formato de codificación one-hot. Esto es importante porque muchos algoritmos de aprendizaje automático, especialmente las redes neuronales, funcionan mejor con etiquetas en formato one-hot. Luego, se imprime una etiqueta antes y después de la conversión para verificar el proceso."
   ]
  },
  {
   "cell_type": "code",
   "execution_count": 25,
   "id": "05ee7f17",
   "metadata": {},
   "outputs": [
    {
     "name": "stdout",
     "output_type": "stream",
     "text": [
      "Original label: 3\n",
      "After conversion to one-hot: [0. 0. 0. 1. 0.]\n"
     ]
    }
   ],
   "source": [
    "train_Y_one_hot = to_categorical(train_Y)\n",
    "test_Y_one_hot = to_categorical(test_Y)\n",
    "print('Original label:', train_Y[0])\n",
    "print('After conversion to one-hot:', train_Y_one_hot[0])"
   ]
  },
  {
   "cell_type": "markdown",
   "id": "904894e9",
   "metadata": {},
   "source": [
    "Esta sección del código toma el conjunto de datos de entrenamiento y lo divide en dos conjuntos: uno para continuar el entrenamiento y otro para la validación. La validación es una parte crucial del proceso de entrenamiento de modelos de aprendizaje automático porque permite evaluar el rendimiento del modelo en datos no vistos durante el entrenamiento, ayudando a prevenir el sobreajuste."
   ]
  },
  {
   "cell_type": "code",
   "execution_count": 28,
   "id": "a28f6f9b",
   "metadata": {},
   "outputs": [],
   "source": [
    "#Mezclar todo y crear los grupos de entrenamiento y testing\n",
    "train_X,valid_X,train_label,valid_label = train_test_split(train_X, train_Y_one_hot, test_size=0.2, random_state=13)"
   ]
  },
  {
   "cell_type": "markdown",
   "id": "06c61a50",
   "metadata": {},
   "source": [
    "Esta sección del código es útil para verificar que los conjuntos de datos se han dividido correctamente y que las formas de los datos son las esperadas. Esto asegura que los datos estén listos para ser utilizados en el entrenamiento y validación del modelo."
   ]
  },
  {
   "cell_type": "code",
   "execution_count": 31,
   "id": "efd3618b",
   "metadata": {},
   "outputs": [
    {
     "name": "stdout",
     "output_type": "stream",
     "text": [
      "(61760, 21, 37, 3) (15440, 21, 37, 3) (61760, 5) (15440, 5)\n"
     ]
    }
   ],
   "source": [
    "print(train_X.shape,valid_X.shape,train_label.shape,valid_label.shape)"
   ]
  },
  {
   "cell_type": "markdown",
   "id": "2a41f06f",
   "metadata": {},
   "source": [
    "Esta sección del código define y configura varios parámetros importantes para el entrenamiento de una red neuronal. Estos parámetros incluyen la tasa de aprendizaje inicial, el número de épocas y el tamaño del lote."
   ]
  },
  {
   "cell_type": "code",
   "execution_count": 34,
   "id": "bea432f7",
   "metadata": {},
   "outputs": [],
   "source": [
    "#declaramos variables con los parámetros de configuración de la red\n",
    "INIT_LR = 1e-3  # Valor inicial del learning rate\n",
    "epochs = 60  # Número de épocas\n",
    "batch_size = 32  # Tamaño del lote"
   ]
  },
  {
   "cell_type": "markdown",
   "id": "7e3011de",
   "metadata": {},
   "source": [
    "Esta sección del código define un modelo de red neuronal convolucional (CNN) utilizando la API de Keras. La red consta de varias capas, incluyendo capas convolucionales, de activación, de pooling, de normalización (Dropout) y densas (fully connected)."
   ]
  },
  {
   "cell_type": "code",
   "execution_count": 37,
   "id": "2e931725",
   "metadata": {},
   "outputs": [
    {
     "name": "stderr",
     "output_type": "stream",
     "text": [
      "C:\\Users\\rbece\\anaconda3\\Lib\\site-packages\\keras\\src\\layers\\convolutional\\base_conv.py:107: UserWarning: Do not pass an `input_shape`/`input_dim` argument to a layer. When using Sequential models, prefer using an `Input(shape)` object as the first layer in the model instead.\n",
      "  super().__init__(activity_regularizer=activity_regularizer, **kwargs)\n",
      "C:\\Users\\rbece\\anaconda3\\Lib\\site-packages\\keras\\src\\layers\\activations\\leaky_relu.py:41: UserWarning: Argument `alpha` is deprecated. Use `negative_slope` instead.\n",
      "  warnings.warn(\n"
     ]
    }
   ],
   "source": [
    "riesgo_model = Sequential()\n",
    "riesgo_model.add(Conv2D(32, kernel_size=(3, 3),activation='linear',padding='same',input_shape=(21,37,3)))\n",
    "riesgo_model.add(LeakyReLU(alpha=0.1))\n",
    "riesgo_model.add(MaxPooling2D((2, 2),padding='same'))\n",
    "riesgo_model.add(Dropout(0.5))\n",
    "\n",
    "riesgo_model.add(Flatten())\n",
    "riesgo_model.add(Dense(32, activation='linear'))\n",
    "riesgo_model.add(LeakyReLU(alpha=0.1))\n",
    "riesgo_model.add(Dropout(0.5))\n",
    "riesgo_model.add(Dense(nClasses, activation='softmax'))"
   ]
  },
  {
   "cell_type": "code",
   "execution_count": 39,
   "id": "d3ef9310",
   "metadata": {},
   "outputs": [
    {
     "data": {
      "text/html": [
       "<pre style=\"white-space:pre;overflow-x:auto;line-height:normal;font-family:Menlo,'DejaVu Sans Mono',consolas,'Courier New',monospace\"><span style=\"font-weight: bold\">Model: \"sequential\"</span>\n",
       "</pre>\n"
      ],
      "text/plain": [
       "\u001b[1mModel: \"sequential\"\u001b[0m\n"
      ]
     },
     "metadata": {},
     "output_type": "display_data"
    },
    {
     "data": {
      "text/html": [
       "<pre style=\"white-space:pre;overflow-x:auto;line-height:normal;font-family:Menlo,'DejaVu Sans Mono',consolas,'Courier New',monospace\">┏━━━━━━━━━━━━━━━━━━━━━━━━━━━━━━━━━┳━━━━━━━━━━━━━━━━━━━━━━━━┳━━━━━━━━━━━━━━━┓\n",
       "┃<span style=\"font-weight: bold\"> Layer (type)                    </span>┃<span style=\"font-weight: bold\"> Output Shape           </span>┃<span style=\"font-weight: bold\">       Param # </span>┃\n",
       "┡━━━━━━━━━━━━━━━━━━━━━━━━━━━━━━━━━╇━━━━━━━━━━━━━━━━━━━━━━━━╇━━━━━━━━━━━━━━━┩\n",
       "│ conv2d (<span style=\"color: #0087ff; text-decoration-color: #0087ff\">Conv2D</span>)                 │ (<span style=\"color: #00d7ff; text-decoration-color: #00d7ff\">None</span>, <span style=\"color: #00af00; text-decoration-color: #00af00\">21</span>, <span style=\"color: #00af00; text-decoration-color: #00af00\">37</span>, <span style=\"color: #00af00; text-decoration-color: #00af00\">32</span>)     │           <span style=\"color: #00af00; text-decoration-color: #00af00\">896</span> │\n",
       "├─────────────────────────────────┼────────────────────────┼───────────────┤\n",
       "│ leaky_re_lu (<span style=\"color: #0087ff; text-decoration-color: #0087ff\">LeakyReLU</span>)         │ (<span style=\"color: #00d7ff; text-decoration-color: #00d7ff\">None</span>, <span style=\"color: #00af00; text-decoration-color: #00af00\">21</span>, <span style=\"color: #00af00; text-decoration-color: #00af00\">37</span>, <span style=\"color: #00af00; text-decoration-color: #00af00\">32</span>)     │             <span style=\"color: #00af00; text-decoration-color: #00af00\">0</span> │\n",
       "├─────────────────────────────────┼────────────────────────┼───────────────┤\n",
       "│ max_pooling2d (<span style=\"color: #0087ff; text-decoration-color: #0087ff\">MaxPooling2D</span>)    │ (<span style=\"color: #00d7ff; text-decoration-color: #00d7ff\">None</span>, <span style=\"color: #00af00; text-decoration-color: #00af00\">11</span>, <span style=\"color: #00af00; text-decoration-color: #00af00\">19</span>, <span style=\"color: #00af00; text-decoration-color: #00af00\">32</span>)     │             <span style=\"color: #00af00; text-decoration-color: #00af00\">0</span> │\n",
       "├─────────────────────────────────┼────────────────────────┼───────────────┤\n",
       "│ dropout (<span style=\"color: #0087ff; text-decoration-color: #0087ff\">Dropout</span>)               │ (<span style=\"color: #00d7ff; text-decoration-color: #00d7ff\">None</span>, <span style=\"color: #00af00; text-decoration-color: #00af00\">11</span>, <span style=\"color: #00af00; text-decoration-color: #00af00\">19</span>, <span style=\"color: #00af00; text-decoration-color: #00af00\">32</span>)     │             <span style=\"color: #00af00; text-decoration-color: #00af00\">0</span> │\n",
       "├─────────────────────────────────┼────────────────────────┼───────────────┤\n",
       "│ flatten (<span style=\"color: #0087ff; text-decoration-color: #0087ff\">Flatten</span>)               │ (<span style=\"color: #00d7ff; text-decoration-color: #00d7ff\">None</span>, <span style=\"color: #00af00; text-decoration-color: #00af00\">6688</span>)           │             <span style=\"color: #00af00; text-decoration-color: #00af00\">0</span> │\n",
       "├─────────────────────────────────┼────────────────────────┼───────────────┤\n",
       "│ dense (<span style=\"color: #0087ff; text-decoration-color: #0087ff\">Dense</span>)                   │ (<span style=\"color: #00d7ff; text-decoration-color: #00d7ff\">None</span>, <span style=\"color: #00af00; text-decoration-color: #00af00\">32</span>)             │       <span style=\"color: #00af00; text-decoration-color: #00af00\">214,048</span> │\n",
       "├─────────────────────────────────┼────────────────────────┼───────────────┤\n",
       "│ leaky_re_lu_1 (<span style=\"color: #0087ff; text-decoration-color: #0087ff\">LeakyReLU</span>)       │ (<span style=\"color: #00d7ff; text-decoration-color: #00d7ff\">None</span>, <span style=\"color: #00af00; text-decoration-color: #00af00\">32</span>)             │             <span style=\"color: #00af00; text-decoration-color: #00af00\">0</span> │\n",
       "├─────────────────────────────────┼────────────────────────┼───────────────┤\n",
       "│ dropout_1 (<span style=\"color: #0087ff; text-decoration-color: #0087ff\">Dropout</span>)             │ (<span style=\"color: #00d7ff; text-decoration-color: #00d7ff\">None</span>, <span style=\"color: #00af00; text-decoration-color: #00af00\">32</span>)             │             <span style=\"color: #00af00; text-decoration-color: #00af00\">0</span> │\n",
       "├─────────────────────────────────┼────────────────────────┼───────────────┤\n",
       "│ dense_1 (<span style=\"color: #0087ff; text-decoration-color: #0087ff\">Dense</span>)                 │ (<span style=\"color: #00d7ff; text-decoration-color: #00d7ff\">None</span>, <span style=\"color: #00af00; text-decoration-color: #00af00\">5</span>)              │           <span style=\"color: #00af00; text-decoration-color: #00af00\">165</span> │\n",
       "└─────────────────────────────────┴────────────────────────┴───────────────┘\n",
       "</pre>\n"
      ],
      "text/plain": [
       "┏━━━━━━━━━━━━━━━━━━━━━━━━━━━━━━━━━┳━━━━━━━━━━━━━━━━━━━━━━━━┳━━━━━━━━━━━━━━━┓\n",
       "┃\u001b[1m \u001b[0m\u001b[1mLayer (type)                   \u001b[0m\u001b[1m \u001b[0m┃\u001b[1m \u001b[0m\u001b[1mOutput Shape          \u001b[0m\u001b[1m \u001b[0m┃\u001b[1m \u001b[0m\u001b[1m      Param #\u001b[0m\u001b[1m \u001b[0m┃\n",
       "┡━━━━━━━━━━━━━━━━━━━━━━━━━━━━━━━━━╇━━━━━━━━━━━━━━━━━━━━━━━━╇━━━━━━━━━━━━━━━┩\n",
       "│ conv2d (\u001b[38;5;33mConv2D\u001b[0m)                 │ (\u001b[38;5;45mNone\u001b[0m, \u001b[38;5;34m21\u001b[0m, \u001b[38;5;34m37\u001b[0m, \u001b[38;5;34m32\u001b[0m)     │           \u001b[38;5;34m896\u001b[0m │\n",
       "├─────────────────────────────────┼────────────────────────┼───────────────┤\n",
       "│ leaky_re_lu (\u001b[38;5;33mLeakyReLU\u001b[0m)         │ (\u001b[38;5;45mNone\u001b[0m, \u001b[38;5;34m21\u001b[0m, \u001b[38;5;34m37\u001b[0m, \u001b[38;5;34m32\u001b[0m)     │             \u001b[38;5;34m0\u001b[0m │\n",
       "├─────────────────────────────────┼────────────────────────┼───────────────┤\n",
       "│ max_pooling2d (\u001b[38;5;33mMaxPooling2D\u001b[0m)    │ (\u001b[38;5;45mNone\u001b[0m, \u001b[38;5;34m11\u001b[0m, \u001b[38;5;34m19\u001b[0m, \u001b[38;5;34m32\u001b[0m)     │             \u001b[38;5;34m0\u001b[0m │\n",
       "├─────────────────────────────────┼────────────────────────┼───────────────┤\n",
       "│ dropout (\u001b[38;5;33mDropout\u001b[0m)               │ (\u001b[38;5;45mNone\u001b[0m, \u001b[38;5;34m11\u001b[0m, \u001b[38;5;34m19\u001b[0m, \u001b[38;5;34m32\u001b[0m)     │             \u001b[38;5;34m0\u001b[0m │\n",
       "├─────────────────────────────────┼────────────────────────┼───────────────┤\n",
       "│ flatten (\u001b[38;5;33mFlatten\u001b[0m)               │ (\u001b[38;5;45mNone\u001b[0m, \u001b[38;5;34m6688\u001b[0m)           │             \u001b[38;5;34m0\u001b[0m │\n",
       "├─────────────────────────────────┼────────────────────────┼───────────────┤\n",
       "│ dense (\u001b[38;5;33mDense\u001b[0m)                   │ (\u001b[38;5;45mNone\u001b[0m, \u001b[38;5;34m32\u001b[0m)             │       \u001b[38;5;34m214,048\u001b[0m │\n",
       "├─────────────────────────────────┼────────────────────────┼───────────────┤\n",
       "│ leaky_re_lu_1 (\u001b[38;5;33mLeakyReLU\u001b[0m)       │ (\u001b[38;5;45mNone\u001b[0m, \u001b[38;5;34m32\u001b[0m)             │             \u001b[38;5;34m0\u001b[0m │\n",
       "├─────────────────────────────────┼────────────────────────┼───────────────┤\n",
       "│ dropout_1 (\u001b[38;5;33mDropout\u001b[0m)             │ (\u001b[38;5;45mNone\u001b[0m, \u001b[38;5;34m32\u001b[0m)             │             \u001b[38;5;34m0\u001b[0m │\n",
       "├─────────────────────────────────┼────────────────────────┼───────────────┤\n",
       "│ dense_1 (\u001b[38;5;33mDense\u001b[0m)                 │ (\u001b[38;5;45mNone\u001b[0m, \u001b[38;5;34m5\u001b[0m)              │           \u001b[38;5;34m165\u001b[0m │\n",
       "└─────────────────────────────────┴────────────────────────┴───────────────┘\n"
      ]
     },
     "metadata": {},
     "output_type": "display_data"
    },
    {
     "data": {
      "text/html": [
       "<pre style=\"white-space:pre;overflow-x:auto;line-height:normal;font-family:Menlo,'DejaVu Sans Mono',consolas,'Courier New',monospace\"><span style=\"font-weight: bold\"> Total params: </span><span style=\"color: #00af00; text-decoration-color: #00af00\">215,109</span> (840.27 KB)\n",
       "</pre>\n"
      ],
      "text/plain": [
       "\u001b[1m Total params: \u001b[0m\u001b[38;5;34m215,109\u001b[0m (840.27 KB)\n"
      ]
     },
     "metadata": {},
     "output_type": "display_data"
    },
    {
     "data": {
      "text/html": [
       "<pre style=\"white-space:pre;overflow-x:auto;line-height:normal;font-family:Menlo,'DejaVu Sans Mono',consolas,'Courier New',monospace\"><span style=\"font-weight: bold\"> Trainable params: </span><span style=\"color: #00af00; text-decoration-color: #00af00\">215,109</span> (840.27 KB)\n",
       "</pre>\n"
      ],
      "text/plain": [
       "\u001b[1m Trainable params: \u001b[0m\u001b[38;5;34m215,109\u001b[0m (840.27 KB)\n"
      ]
     },
     "metadata": {},
     "output_type": "display_data"
    },
    {
     "data": {
      "text/html": [
       "<pre style=\"white-space:pre;overflow-x:auto;line-height:normal;font-family:Menlo,'DejaVu Sans Mono',consolas,'Courier New',monospace\"><span style=\"font-weight: bold\"> Non-trainable params: </span><span style=\"color: #00af00; text-decoration-color: #00af00\">0</span> (0.00 B)\n",
       "</pre>\n"
      ],
      "text/plain": [
       "\u001b[1m Non-trainable params: \u001b[0m\u001b[38;5;34m0\u001b[0m (0.00 B)\n"
      ]
     },
     "metadata": {},
     "output_type": "display_data"
    }
   ],
   "source": [
    "riesgo_model.summary()"
   ]
  },
  {
   "cell_type": "markdown",
   "id": "40d22b30",
   "metadata": {},
   "source": [
    "Esta sección del código configura la función de pérdida, el optimizador y las métricas que se utilizarán durante el entrenamiento del modelo. La compilación del modelo es un paso crucial que prepara el modelo para ser entrenado con los datos."
   ]
  },
  {
   "cell_type": "code",
   "execution_count": 42,
   "id": "2a8c94ed",
   "metadata": {},
   "outputs": [
    {
     "name": "stderr",
     "output_type": "stream",
     "text": [
      "C:\\Users\\rbece\\anaconda3\\Lib\\site-packages\\keras\\src\\optimizers\\base_optimizer.py:86: UserWarning: Argument `decay` is no longer supported and will be ignored.\n",
      "  warnings.warn(\n"
     ]
    }
   ],
   "source": [
    "riesgo_model.compile(loss=keras.losses.categorical_crossentropy, optimizer=tf.keras.optimizers.SGD(learning_rate=INIT_LR, decay=INIT_LR / 100),metrics=['accuracy'])"
   ]
  },
  {
   "cell_type": "markdown",
   "id": "d98a4477",
   "metadata": {},
   "source": [
    "\n",
    "Esta sección del código entrena el modelo de red neuronal convolucional utilizando los datos de entrenamiento. Durante el entrenamiento, el modelo se ajusta iterativamente a los datos, actualizando sus parámetros para minimizar la función de pérdida. El conjunto de datos de validación se utiliza para monitorear el rendimiento del modelo y prevenir el sobreajuste."
   ]
  },
  {
   "cell_type": "code",
   "execution_count": 45,
   "id": "0da257d9",
   "metadata": {
    "scrolled": true
   },
   "outputs": [
    {
     "name": "stdout",
     "output_type": "stream",
     "text": [
      "Epoch 1/70\n",
      "\u001b[1m1930/1930\u001b[0m \u001b[32m━━━━━━━━━━━━━━━━━━━━\u001b[0m\u001b[37m\u001b[0m \u001b[1m15s\u001b[0m 7ms/step - accuracy: 0.3500 - loss: 1.4618 - val_accuracy: 0.6728 - val_loss: 0.9606\n",
      "Epoch 2/70\n",
      "\u001b[1m1930/1930\u001b[0m \u001b[32m━━━━━━━━━━━━━━━━━━━━\u001b[0m\u001b[37m\u001b[0m \u001b[1m14s\u001b[0m 7ms/step - accuracy: 0.6023 - loss: 1.0187 - val_accuracy: 0.8095 - val_loss: 0.6687\n",
      "Epoch 3/70\n",
      "\u001b[1m1930/1930\u001b[0m \u001b[32m━━━━━━━━━━━━━━━━━━━━\u001b[0m\u001b[37m\u001b[0m \u001b[1m12s\u001b[0m 6ms/step - accuracy: 0.6974 - loss: 0.7991 - val_accuracy: 0.8569 - val_loss: 0.4714\n",
      "Epoch 4/70\n",
      "\u001b[1m1930/1930\u001b[0m \u001b[32m━━━━━━━━━━━━━━━━━━━━\u001b[0m\u001b[37m\u001b[0m \u001b[1m12s\u001b[0m 6ms/step - accuracy: 0.7616 - loss: 0.6407 - val_accuracy: 0.9120 - val_loss: 0.3353\n",
      "Epoch 5/70\n",
      "\u001b[1m1930/1930\u001b[0m \u001b[32m━━━━━━━━━━━━━━━━━━━━\u001b[0m\u001b[37m\u001b[0m \u001b[1m13s\u001b[0m 6ms/step - accuracy: 0.7974 - loss: 0.5479 - val_accuracy: 0.9396 - val_loss: 0.2536\n",
      "Epoch 6/70\n",
      "\u001b[1m1930/1930\u001b[0m \u001b[32m━━━━━━━━━━━━━━━━━━━━\u001b[0m\u001b[37m\u001b[0m \u001b[1m13s\u001b[0m 7ms/step - accuracy: 0.8237 - loss: 0.4792 - val_accuracy: 0.9610 - val_loss: 0.1844\n",
      "Epoch 7/70\n",
      "\u001b[1m1930/1930\u001b[0m \u001b[32m━━━━━━━━━━━━━━━━━━━━\u001b[0m\u001b[37m\u001b[0m \u001b[1m14s\u001b[0m 7ms/step - accuracy: 0.8493 - loss: 0.4105 - val_accuracy: 0.9652 - val_loss: 0.1682\n",
      "Epoch 8/70\n",
      "\u001b[1m1930/1930\u001b[0m \u001b[32m━━━━━━━━━━━━━━━━━━━━\u001b[0m\u001b[37m\u001b[0m \u001b[1m12s\u001b[0m 6ms/step - accuracy: 0.8637 - loss: 0.3753 - val_accuracy: 0.9787 - val_loss: 0.1333\n",
      "Epoch 9/70\n",
      "\u001b[1m1930/1930\u001b[0m \u001b[32m━━━━━━━━━━━━━━━━━━━━\u001b[0m\u001b[37m\u001b[0m \u001b[1m12s\u001b[0m 6ms/step - accuracy: 0.8739 - loss: 0.3425 - val_accuracy: 0.9831 - val_loss: 0.1025\n",
      "Epoch 10/70\n",
      "\u001b[1m1930/1930\u001b[0m \u001b[32m━━━━━━━━━━━━━━━━━━━━\u001b[0m\u001b[37m\u001b[0m \u001b[1m13s\u001b[0m 6ms/step - accuracy: 0.8861 - loss: 0.3062 - val_accuracy: 0.9874 - val_loss: 0.0822\n",
      "Epoch 11/70\n",
      "\u001b[1m1930/1930\u001b[0m \u001b[32m━━━━━━━━━━━━━━━━━━━━\u001b[0m\u001b[37m\u001b[0m \u001b[1m13s\u001b[0m 7ms/step - accuracy: 0.8966 - loss: 0.2889 - val_accuracy: 0.9884 - val_loss: 0.0707\n",
      "Epoch 12/70\n",
      "\u001b[1m1930/1930\u001b[0m \u001b[32m━━━━━━━━━━━━━━━━━━━━\u001b[0m\u001b[37m\u001b[0m \u001b[1m15s\u001b[0m 8ms/step - accuracy: 0.8995 - loss: 0.2763 - val_accuracy: 0.9905 - val_loss: 0.0663\n",
      "Epoch 13/70\n",
      "\u001b[1m1930/1930\u001b[0m \u001b[32m━━━━━━━━━━━━━━━━━━━━\u001b[0m\u001b[37m\u001b[0m \u001b[1m14s\u001b[0m 7ms/step - accuracy: 0.9103 - loss: 0.2518 - val_accuracy: 0.9928 - val_loss: 0.0497\n",
      "Epoch 14/70\n",
      "\u001b[1m1930/1930\u001b[0m \u001b[32m━━━━━━━━━━━━━━━━━━━━\u001b[0m\u001b[37m\u001b[0m \u001b[1m13s\u001b[0m 7ms/step - accuracy: 0.9133 - loss: 0.2401 - val_accuracy: 0.9952 - val_loss: 0.0458\n",
      "Epoch 15/70\n",
      "\u001b[1m1930/1930\u001b[0m \u001b[32m━━━━━━━━━━━━━━━━━━━━\u001b[0m\u001b[37m\u001b[0m \u001b[1m11s\u001b[0m 6ms/step - accuracy: 0.9163 - loss: 0.2257 - val_accuracy: 0.9946 - val_loss: 0.0381\n",
      "Epoch 16/70\n",
      "\u001b[1m1930/1930\u001b[0m \u001b[32m━━━━━━━━━━━━━━━━━━━━\u001b[0m\u001b[37m\u001b[0m \u001b[1m12s\u001b[0m 6ms/step - accuracy: 0.9206 - loss: 0.2171 - val_accuracy: 0.9953 - val_loss: 0.0359\n",
      "Epoch 17/70\n",
      "\u001b[1m1930/1930\u001b[0m \u001b[32m━━━━━━━━━━━━━━━━━━━━\u001b[0m\u001b[37m\u001b[0m \u001b[1m13s\u001b[0m 7ms/step - accuracy: 0.9217 - loss: 0.2144 - val_accuracy: 0.9957 - val_loss: 0.0310\n",
      "Epoch 18/70\n",
      "\u001b[1m1930/1930\u001b[0m \u001b[32m━━━━━━━━━━━━━━━━━━━━\u001b[0m\u001b[37m\u001b[0m \u001b[1m15s\u001b[0m 8ms/step - accuracy: 0.9259 - loss: 0.2036 - val_accuracy: 0.9962 - val_loss: 0.0286\n",
      "Epoch 19/70\n",
      "\u001b[1m1930/1930\u001b[0m \u001b[32m━━━━━━━━━━━━━━━━━━━━\u001b[0m\u001b[37m\u001b[0m \u001b[1m14s\u001b[0m 7ms/step - accuracy: 0.9293 - loss: 0.1904 - val_accuracy: 0.9969 - val_loss: 0.0232\n",
      "Epoch 20/70\n",
      "\u001b[1m1930/1930\u001b[0m \u001b[32m━━━━━━━━━━━━━━━━━━━━\u001b[0m\u001b[37m\u001b[0m \u001b[1m11s\u001b[0m 6ms/step - accuracy: 0.9334 - loss: 0.1855 - val_accuracy: 0.9968 - val_loss: 0.0272\n",
      "Epoch 21/70\n",
      "\u001b[1m1930/1930\u001b[0m \u001b[32m━━━━━━━━━━━━━━━━━━━━\u001b[0m\u001b[37m\u001b[0m \u001b[1m12s\u001b[0m 6ms/step - accuracy: 0.9351 - loss: 0.1820 - val_accuracy: 0.9981 - val_loss: 0.0201\n",
      "Epoch 22/70\n",
      "\u001b[1m1930/1930\u001b[0m \u001b[32m━━━━━━━━━━━━━━━━━━━━\u001b[0m\u001b[37m\u001b[0m \u001b[1m14s\u001b[0m 7ms/step - accuracy: 0.9381 - loss: 0.1717 - val_accuracy: 0.9979 - val_loss: 0.0217\n",
      "Epoch 23/70\n",
      "\u001b[1m1930/1930\u001b[0m \u001b[32m━━━━━━━━━━━━━━━━━━━━\u001b[0m\u001b[37m\u001b[0m \u001b[1m14s\u001b[0m 7ms/step - accuracy: 0.9396 - loss: 0.1668 - val_accuracy: 0.9986 - val_loss: 0.0164\n",
      "Epoch 24/70\n",
      "\u001b[1m1930/1930\u001b[0m \u001b[32m━━━━━━━━━━━━━━━━━━━━\u001b[0m\u001b[37m\u001b[0m \u001b[1m11s\u001b[0m 6ms/step - accuracy: 0.9398 - loss: 0.1636 - val_accuracy: 0.9982 - val_loss: 0.0169\n",
      "Epoch 25/70\n",
      "\u001b[1m1930/1930\u001b[0m \u001b[32m━━━━━━━━━━━━━━━━━━━━\u001b[0m\u001b[37m\u001b[0m \u001b[1m13s\u001b[0m 7ms/step - accuracy: 0.9428 - loss: 0.1594 - val_accuracy: 0.9987 - val_loss: 0.0139\n",
      "Epoch 26/70\n",
      "\u001b[1m1930/1930\u001b[0m \u001b[32m━━━━━━━━━━━━━━━━━━━━\u001b[0m\u001b[37m\u001b[0m \u001b[1m12s\u001b[0m 6ms/step - accuracy: 0.9456 - loss: 0.1538 - val_accuracy: 0.9989 - val_loss: 0.0145\n",
      "Epoch 27/70\n",
      "\u001b[1m1930/1930\u001b[0m \u001b[32m━━━━━━━━━━━━━━━━━━━━\u001b[0m\u001b[37m\u001b[0m \u001b[1m14s\u001b[0m 7ms/step - accuracy: 0.9469 - loss: 0.1483 - val_accuracy: 0.9986 - val_loss: 0.0152\n",
      "Epoch 28/70\n",
      "\u001b[1m1930/1930\u001b[0m \u001b[32m━━━━━━━━━━━━━━━━━━━━\u001b[0m\u001b[37m\u001b[0m \u001b[1m14s\u001b[0m 7ms/step - accuracy: 0.9467 - loss: 0.1454 - val_accuracy: 0.9989 - val_loss: 0.0113\n",
      "Epoch 29/70\n",
      "\u001b[1m1930/1930\u001b[0m \u001b[32m━━━━━━━━━━━━━━━━━━━━\u001b[0m\u001b[37m\u001b[0m \u001b[1m14s\u001b[0m 7ms/step - accuracy: 0.9482 - loss: 0.1426 - val_accuracy: 0.9988 - val_loss: 0.0117\n",
      "Epoch 30/70\n",
      "\u001b[1m1930/1930\u001b[0m \u001b[32m━━━━━━━━━━━━━━━━━━━━\u001b[0m\u001b[37m\u001b[0m \u001b[1m13s\u001b[0m 7ms/step - accuracy: 0.9502 - loss: 0.1433 - val_accuracy: 0.9994 - val_loss: 0.0123\n",
      "Epoch 31/70\n",
      "\u001b[1m1930/1930\u001b[0m \u001b[32m━━━━━━━━━━━━━━━━━━━━\u001b[0m\u001b[37m\u001b[0m \u001b[1m11s\u001b[0m 6ms/step - accuracy: 0.9503 - loss: 0.1390 - val_accuracy: 0.9992 - val_loss: 0.0101\n",
      "Epoch 32/70\n",
      "\u001b[1m1930/1930\u001b[0m \u001b[32m━━━━━━━━━━━━━━━━━━━━\u001b[0m\u001b[37m\u001b[0m \u001b[1m14s\u001b[0m 7ms/step - accuracy: 0.9529 - loss: 0.1331 - val_accuracy: 0.9994 - val_loss: 0.0085\n",
      "Epoch 33/70\n",
      "\u001b[1m1930/1930\u001b[0m \u001b[32m━━━━━━━━━━━━━━━━━━━━\u001b[0m\u001b[37m\u001b[0m \u001b[1m14s\u001b[0m 7ms/step - accuracy: 0.9504 - loss: 0.1364 - val_accuracy: 0.9994 - val_loss: 0.0087\n",
      "Epoch 34/70\n",
      "\u001b[1m1930/1930\u001b[0m \u001b[32m━━━━━━━━━━━━━━━━━━━━\u001b[0m\u001b[37m\u001b[0m \u001b[1m11s\u001b[0m 6ms/step - accuracy: 0.9545 - loss: 0.1300 - val_accuracy: 0.9993 - val_loss: 0.0091\n",
      "Epoch 35/70\n",
      "\u001b[1m1930/1930\u001b[0m \u001b[32m━━━━━━━━━━━━━━━━━━━━\u001b[0m\u001b[37m\u001b[0m \u001b[1m14s\u001b[0m 7ms/step - accuracy: 0.9534 - loss: 0.1279 - val_accuracy: 0.9995 - val_loss: 0.0070\n",
      "Epoch 36/70\n",
      "\u001b[1m1930/1930\u001b[0m \u001b[32m━━━━━━━━━━━━━━━━━━━━\u001b[0m\u001b[37m\u001b[0m \u001b[1m12s\u001b[0m 6ms/step - accuracy: 0.9546 - loss: 0.1268 - val_accuracy: 0.9995 - val_loss: 0.0070\n",
      "Epoch 37/70\n",
      "\u001b[1m1930/1930\u001b[0m \u001b[32m━━━━━━━━━━━━━━━━━━━━\u001b[0m\u001b[37m\u001b[0m \u001b[1m13s\u001b[0m 7ms/step - accuracy: 0.9552 - loss: 0.1262 - val_accuracy: 0.9997 - val_loss: 0.0069\n",
      "Epoch 38/70\n",
      "\u001b[1m1930/1930\u001b[0m \u001b[32m━━━━━━━━━━━━━━━━━━━━\u001b[0m\u001b[37m\u001b[0m \u001b[1m14s\u001b[0m 7ms/step - accuracy: 0.9566 - loss: 0.1217 - val_accuracy: 0.9993 - val_loss: 0.0067\n",
      "Epoch 39/70\n",
      "\u001b[1m1930/1930\u001b[0m \u001b[32m━━━━━━━━━━━━━━━━━━━━\u001b[0m\u001b[37m\u001b[0m \u001b[1m13s\u001b[0m 7ms/step - accuracy: 0.9582 - loss: 0.1199 - val_accuracy: 0.9996 - val_loss: 0.0066\n",
      "Epoch 40/70\n",
      "\u001b[1m1930/1930\u001b[0m \u001b[32m━━━━━━━━━━━━━━━━━━━━\u001b[0m\u001b[37m\u001b[0m \u001b[1m14s\u001b[0m 7ms/step - accuracy: 0.9565 - loss: 0.1237 - val_accuracy: 0.9998 - val_loss: 0.0067\n",
      "Epoch 41/70\n",
      "\u001b[1m1930/1930\u001b[0m \u001b[32m━━━━━━━━━━━━━━━━━━━━\u001b[0m\u001b[37m\u001b[0m \u001b[1m13s\u001b[0m 7ms/step - accuracy: 0.9586 - loss: 0.1158 - val_accuracy: 0.9997 - val_loss: 0.0057\n",
      "Epoch 42/70\n",
      "\u001b[1m1930/1930\u001b[0m \u001b[32m━━━━━━━━━━━━━━━━━━━━\u001b[0m\u001b[37m\u001b[0m \u001b[1m13s\u001b[0m 7ms/step - accuracy: 0.9586 - loss: 0.1173 - val_accuracy: 0.9996 - val_loss: 0.0049\n",
      "Epoch 43/70\n",
      "\u001b[1m1930/1930\u001b[0m \u001b[32m━━━━━━━━━━━━━━━━━━━━\u001b[0m\u001b[37m\u001b[0m \u001b[1m13s\u001b[0m 7ms/step - accuracy: 0.9584 - loss: 0.1157 - val_accuracy: 0.9998 - val_loss: 0.0060\n",
      "Epoch 44/70\n",
      "\u001b[1m1930/1930\u001b[0m \u001b[32m━━━━━━━━━━━━━━━━━━━━\u001b[0m\u001b[37m\u001b[0m \u001b[1m14s\u001b[0m 7ms/step - accuracy: 0.9596 - loss: 0.1149 - val_accuracy: 0.9994 - val_loss: 0.0059\n",
      "Epoch 45/70\n",
      "\u001b[1m1930/1930\u001b[0m \u001b[32m━━━━━━━━━━━━━━━━━━━━\u001b[0m\u001b[37m\u001b[0m \u001b[1m13s\u001b[0m 7ms/step - accuracy: 0.9579 - loss: 0.1167 - val_accuracy: 0.9995 - val_loss: 0.0052\n",
      "Epoch 46/70\n",
      "\u001b[1m1930/1930\u001b[0m \u001b[32m━━━━━━━━━━━━━━━━━━━━\u001b[0m\u001b[37m\u001b[0m \u001b[1m13s\u001b[0m 7ms/step - accuracy: 0.9597 - loss: 0.1108 - val_accuracy: 0.9996 - val_loss: 0.0046\n",
      "Epoch 47/70\n",
      "\u001b[1m1930/1930\u001b[0m \u001b[32m━━━━━━━━━━━━━━━━━━━━\u001b[0m\u001b[37m\u001b[0m \u001b[1m12s\u001b[0m 6ms/step - accuracy: 0.9621 - loss: 0.1093 - val_accuracy: 0.9997 - val_loss: 0.0051\n",
      "Epoch 48/70\n",
      "\u001b[1m1930/1930\u001b[0m \u001b[32m━━━━━━━━━━━━━━━━━━━━\u001b[0m\u001b[37m\u001b[0m \u001b[1m13s\u001b[0m 7ms/step - accuracy: 0.9617 - loss: 0.1090 - val_accuracy: 0.9998 - val_loss: 0.0045\n",
      "Epoch 49/70\n",
      "\u001b[1m1930/1930\u001b[0m \u001b[32m━━━━━━━━━━━━━━━━━━━━\u001b[0m\u001b[37m\u001b[0m \u001b[1m13s\u001b[0m 7ms/step - accuracy: 0.9630 - loss: 0.1054 - val_accuracy: 0.9997 - val_loss: 0.0044\n",
      "Epoch 50/70\n",
      "\u001b[1m1930/1930\u001b[0m \u001b[32m━━━━━━━━━━━━━━━━━━━━\u001b[0m\u001b[37m\u001b[0m \u001b[1m13s\u001b[0m 7ms/step - accuracy: 0.9607 - loss: 0.1086 - val_accuracy: 0.9998 - val_loss: 0.0038\n",
      "Epoch 51/70\n",
      "\u001b[1m1930/1930\u001b[0m \u001b[32m━━━━━━━━━━━━━━━━━━━━\u001b[0m\u001b[37m\u001b[0m \u001b[1m13s\u001b[0m 7ms/step - accuracy: 0.9620 - loss: 0.1078 - val_accuracy: 0.9998 - val_loss: 0.0047\n",
      "Epoch 52/70\n",
      "\u001b[1m1930/1930\u001b[0m \u001b[32m━━━━━━━━━━━━━━━━━━━━\u001b[0m\u001b[37m\u001b[0m \u001b[1m12s\u001b[0m 6ms/step - accuracy: 0.9619 - loss: 0.1057 - val_accuracy: 0.9997 - val_loss: 0.0044\n",
      "Epoch 53/70\n",
      "\u001b[1m1930/1930\u001b[0m \u001b[32m━━━━━━━━━━━━━━━━━━━━\u001b[0m\u001b[37m\u001b[0m \u001b[1m13s\u001b[0m 7ms/step - accuracy: 0.9633 - loss: 0.1063 - val_accuracy: 0.9997 - val_loss: 0.0040\n",
      "Epoch 54/70\n",
      "\u001b[1m1930/1930\u001b[0m \u001b[32m━━━━━━━━━━━━━━━━━━━━\u001b[0m\u001b[37m\u001b[0m \u001b[1m13s\u001b[0m 6ms/step - accuracy: 0.9640 - loss: 0.0983 - val_accuracy: 0.9997 - val_loss: 0.0037\n",
      "Epoch 55/70\n",
      "\u001b[1m1930/1930\u001b[0m \u001b[32m━━━━━━━━━━━━━━━━━━━━\u001b[0m\u001b[37m\u001b[0m \u001b[1m12s\u001b[0m 6ms/step - accuracy: 0.9633 - loss: 0.1026 - val_accuracy: 0.9997 - val_loss: 0.0034\n",
      "Epoch 56/70\n",
      "\u001b[1m1930/1930\u001b[0m \u001b[32m━━━━━━━━━━━━━━━━━━━━\u001b[0m\u001b[37m\u001b[0m \u001b[1m12s\u001b[0m 6ms/step - accuracy: 0.9637 - loss: 0.0999 - val_accuracy: 0.9997 - val_loss: 0.0034\n",
      "Epoch 57/70\n",
      "\u001b[1m1930/1930\u001b[0m \u001b[32m━━━━━━━━━━━━━━━━━━━━\u001b[0m\u001b[37m\u001b[0m \u001b[1m13s\u001b[0m 7ms/step - accuracy: 0.9632 - loss: 0.1015 - val_accuracy: 0.9998 - val_loss: 0.0040\n",
      "Epoch 58/70\n",
      "\u001b[1m1930/1930\u001b[0m \u001b[32m━━━━━━━━━━━━━━━━━━━━\u001b[0m\u001b[37m\u001b[0m \u001b[1m13s\u001b[0m 7ms/step - accuracy: 0.9648 - loss: 0.1006 - val_accuracy: 0.9997 - val_loss: 0.0039\n",
      "Epoch 59/70\n",
      "\u001b[1m1930/1930\u001b[0m \u001b[32m━━━━━━━━━━━━━━━━━━━━\u001b[0m\u001b[37m\u001b[0m \u001b[1m14s\u001b[0m 7ms/step - accuracy: 0.9642 - loss: 0.0981 - val_accuracy: 0.9998 - val_loss: 0.0032\n",
      "Epoch 60/70\n",
      "\u001b[1m1930/1930\u001b[0m \u001b[32m━━━━━━━━━━━━━━━━━━━━\u001b[0m\u001b[37m\u001b[0m \u001b[1m14s\u001b[0m 7ms/step - accuracy: 0.9669 - loss: 0.0944 - val_accuracy: 0.9998 - val_loss: 0.0028\n",
      "Epoch 61/70\n",
      "\u001b[1m1930/1930\u001b[0m \u001b[32m━━━━━━━━━━━━━━━━━━━━\u001b[0m\u001b[37m\u001b[0m \u001b[1m10s\u001b[0m 5ms/step - accuracy: 0.9670 - loss: 0.0941 - val_accuracy: 0.9997 - val_loss: 0.0030\n",
      "Epoch 62/70\n",
      "\u001b[1m1930/1930\u001b[0m \u001b[32m━━━━━━━━━━━━━━━━━━━━\u001b[0m\u001b[37m\u001b[0m \u001b[1m13s\u001b[0m 7ms/step - accuracy: 0.9657 - loss: 0.0971 - val_accuracy: 0.9996 - val_loss: 0.0038\n",
      "Epoch 63/70\n",
      "\u001b[1m1930/1930\u001b[0m \u001b[32m━━━━━━━━━━━━━━━━━━━━\u001b[0m\u001b[37m\u001b[0m \u001b[1m13s\u001b[0m 7ms/step - accuracy: 0.9665 - loss: 0.0956 - val_accuracy: 0.9997 - val_loss: 0.0028\n",
      "Epoch 64/70\n",
      "\u001b[1m1930/1930\u001b[0m \u001b[32m━━━━━━━━━━━━━━━━━━━━\u001b[0m\u001b[37m\u001b[0m \u001b[1m14s\u001b[0m 7ms/step - accuracy: 0.9648 - loss: 0.1014 - val_accuracy: 0.9998 - val_loss: 0.0027\n",
      "Epoch 65/70\n",
      "\u001b[1m1930/1930\u001b[0m \u001b[32m━━━━━━━━━━━━━━━━━━━━\u001b[0m\u001b[37m\u001b[0m \u001b[1m14s\u001b[0m 7ms/step - accuracy: 0.9666 - loss: 0.0944 - val_accuracy: 0.9997 - val_loss: 0.0035\n",
      "Epoch 66/70\n",
      "\u001b[1m1930/1930\u001b[0m \u001b[32m━━━━━━━━━━━━━━━━━━━━\u001b[0m\u001b[37m\u001b[0m \u001b[1m12s\u001b[0m 6ms/step - accuracy: 0.9674 - loss: 0.0918 - val_accuracy: 0.9997 - val_loss: 0.0024\n",
      "Epoch 67/70\n",
      "\u001b[1m1930/1930\u001b[0m \u001b[32m━━━━━━━━━━━━━━━━━━━━\u001b[0m\u001b[37m\u001b[0m \u001b[1m11s\u001b[0m 6ms/step - accuracy: 0.9678 - loss: 0.0903 - val_accuracy: 0.9996 - val_loss: 0.0027\n",
      "Epoch 68/70\n",
      "\u001b[1m1930/1930\u001b[0m \u001b[32m━━━━━━━━━━━━━━━━━━━━\u001b[0m\u001b[37m\u001b[0m \u001b[1m12s\u001b[0m 6ms/step - accuracy: 0.9673 - loss: 0.0910 - val_accuracy: 0.9997 - val_loss: 0.0028\n",
      "Epoch 69/70\n",
      "\u001b[1m1930/1930\u001b[0m \u001b[32m━━━━━━━━━━━━━━━━━━━━\u001b[0m\u001b[37m\u001b[0m \u001b[1m14s\u001b[0m 7ms/step - accuracy: 0.9674 - loss: 0.0905 - val_accuracy: 0.9998 - val_loss: 0.0023\n",
      "Epoch 70/70\n",
      "\u001b[1m1930/1930\u001b[0m \u001b[32m━━━━━━━━━━━━━━━━━━━━\u001b[0m\u001b[37m\u001b[0m \u001b[1m13s\u001b[0m 7ms/step - accuracy: 0.9669 - loss: 0.0941 - val_accuracy: 0.9998 - val_loss: 0.0020\n"
     ]
    }
   ],
   "source": [
    "riesgo_train = riesgo_model.fit(train_X, train_label, batch_size=batch_size,epochs=epochs,verbose=1,validation_data=(valid_X, valid_label))"
   ]
  },
  {
   "cell_type": "code",
   "execution_count": 47,
   "id": "6d990b08",
   "metadata": {},
   "outputs": [
    {
     "name": "stderr",
     "output_type": "stream",
     "text": [
      "WARNING:absl:You are saving your model as an HDF5 file via `model.save()` or `keras.saving.save_model(model)`. This file format is considered legacy. We recommend using instead the native Keras format, e.g. `model.save('my_model.keras')` or `keras.saving.save_model(model, 'my_model.keras')`. \n"
     ]
    }
   ],
   "source": [
    "riesgo_model.save(\"C:/Users/rbece/Documents/iaP/dataset-coches/coches32si.h5\")"
   ]
  },
  {
   "cell_type": "code",
   "execution_count": 49,
   "id": "8e5126d0",
   "metadata": {},
   "outputs": [
    {
     "name": "stdout",
     "output_type": "stream",
     "text": [
      "\u001b[1m604/604\u001b[0m \u001b[32m━━━━━━━━━━━━━━━━━━━━\u001b[0m\u001b[37m\u001b[0m \u001b[1m2s\u001b[0m 2ms/step - accuracy: 0.9996 - loss: 0.0039\n"
     ]
    }
   ],
   "source": [
    "test_eval = riesgo_model.evaluate(test_X, test_Y_one_hot, verbose=1)"
   ]
  },
  {
   "cell_type": "code",
   "execution_count": 51,
   "id": "e6347b64",
   "metadata": {},
   "outputs": [
    {
     "name": "stdout",
     "output_type": "stream",
     "text": [
      "Test loss: 0.004483325406908989\n",
      "Test accuracy: 0.9997409582138062\n"
     ]
    }
   ],
   "source": [
    "print('Test loss:', test_eval[0])\n",
    "print('Test accuracy:', test_eval[1])"
   ]
  },
  {
   "cell_type": "code",
   "execution_count": 53,
   "id": "525f2cd3",
   "metadata": {},
   "outputs": [
    {
     "data": {
      "image/png": "[encoded data removed]",
      "text/plain": [
       "<Figure size 500x500 with 2 Axes>"
      ]
     },
     "metadata": {},
     "output_type": "display_data"
    },
    {
     "data": {
      "image/png": "[encoded data removed]",
      "text/plain": [
       "<Figure size 640x480 with 1 Axes>"
      ]
     },
     "metadata": {},
     "output_type": "display_data"
    }
   ],
   "source": [
    "accuracy = riesgo_train.history['accuracy']\n",
    "val_accuracy = riesgo_train.history['val_accuracy']\n",
    "loss = riesgo_train.history['loss']\n",
    "val_loss = riesgo_train.history['val_loss']\n",
    "epochs = range(len(accuracy))\n",
    "plt.plot(epochs, accuracy, 'bo', label='Training accuracy')\n",
    "plt.plot(epochs, val_accuracy, 'b', label='Validation accuracy')\n",
    "plt.title('Training and validation accuracy')\n",
    "plt.legend()\n",
    "plt.figure()\n",
    "plt.plot(epochs, loss, 'bo', label='Training loss')\n",
    "plt.plot(epochs, val_loss, 'b', label='Validation loss')\n",
    "plt.title('Training and validation loss')\n",
    "plt.legend()\n",
    "plt.show()"
   ]
  },
  {
   "cell_type": "code",
   "execution_count": 55,
   "id": "e46e6d53",
   "metadata": {},
   "outputs": [
    {
     "name": "stdout",
     "output_type": "stream",
     "text": [
      "\u001b[1m604/604\u001b[0m \u001b[32m━━━━━━━━━━━━━━━━━━━━\u001b[0m\u001b[37m\u001b[0m \u001b[1m2s\u001b[0m 2ms/step\n"
     ]
    }
   ],
   "source": [
    "predicted_classes2 = riesgo_model.predict(test_X)"
   ]
  },
  {
   "cell_type": "code",
   "execution_count": 57,
   "id": "21b9cd1f",
   "metadata": {},
   "outputs": [],
   "source": [
    "predicted_classes=[]\n",
    "for predicted_riesgo in predicted_classes2:\n",
    "    predicted_classes.append(predicted_riesgo.tolist().index(max(predicted_riesgo)))\n",
    "predicted_classes=np.array(predicted_classes)"
   ]
  },
  {
   "cell_type": "code",
   "execution_count": 59,
   "id": "270be2d7",
   "metadata": {},
   "outputs": [
    {
     "data": {
      "text/plain": [
       "((19300,), (19300,))"
      ]
     },
     "execution_count": 59,
     "metadata": {},
     "output_type": "execute_result"
    }
   ],
   "source": [
    "predicted_classes.shape, test_Y.shape"
   ]
  },
  {
   "cell_type": "code",
   "execution_count": 61,
   "id": "61e3582c",
   "metadata": {},
   "outputs": [
    {
     "name": "stdout",
     "output_type": "stream",
     "text": [
      "Found 19295 correct labels\n"
     ]
    }
   ],
   "source": [
    "correct = np.where(predicted_classes==test_Y)[0]\n",
    "print(\"Found %d correct labels\" % len(correct))\n",
    "for i, correct in enumerate(correct[0:9]):\n",
    "    plt.subplot(3,3,i+1)\n",
    "    plt.imshow(test_X[correct].reshape(21,37,3), cmap='gray', interpolation='none')\n",
    "    plt.title(\"{}, {}\".format(sriesgos[predicted_classes[correct]],\n",
    "                                                    sriesgos[test_Y[correct]]))\n",
    "\n",
    "    plt.tight_layout()"
   ]
  },
  {
   "cell_type": "code",
   "execution_count": 62,
   "id": "fa18a7ea",
   "metadata": {},
   "outputs": [
    {
     "name": "stdout",
     "output_type": "stream",
     "text": [
      "Found 5 incorrect labels\n"
     ]
    }
   ],
   "source": [
    "incorrect = np.where(predicted_classes!=test_Y)[0]\n",
    "print(\"Found %d incorrect labels\" % len(incorrect))\n",
    "for i, incorrect in enumerate(incorrect[0:9]):\n",
    "    plt.subplot(3,3,i+1)\n",
    "    plt.imshow(test_X[incorrect].reshape(21,37,3), cmap='gray', interpolation='none')\n",
    "    plt.title(\"{}, {}\".format(sriesgos[predicted_classes[incorrect]],\n",
    "                                                    sriesgos[test_Y[incorrect]]))\n",
    "    plt.tight_layout()"
   ]
  },
  {
   "cell_type": "code",
   "execution_count": 65,
   "id": "7836cb99",
   "metadata": {},
   "outputs": [
    {
     "name": "stdout",
     "output_type": "stream",
     "text": [
      "              precision    recall  f1-score   support\n",
      "\n",
      "     Class 0       1.00      1.00      1.00      3665\n",
      "     Class 1       1.00      1.00      1.00      3944\n",
      "     Class 2       1.00      1.00      1.00      3814\n",
      "     Class 3       1.00      1.00      1.00      4588\n",
      "     Class 4       1.00      1.00      1.00      3289\n",
      "\n",
      "    accuracy                           1.00     19300\n",
      "   macro avg       1.00      1.00      1.00     19300\n",
      "weighted avg       1.00      1.00      1.00     19300\n",
      "\n"
     ]
    }
   ],
   "source": [
    "target_names = [\"Class {}\".format(i) for i in range(nClasses)]\n",
    "print(classification_report(test_Y, predicted_classes, target_names=target_names))"
   ]
  },
  {
   "cell_type": "code",
   "execution_count": 99,
   "id": "d654fde2",
   "metadata": {
    "scrolled": true
   },
   "outputs": [
    {
     "name": "stdout",
     "output_type": "stream",
     "text": [
      "\u001b[1m1/1\u001b[0m \u001b[32m━━━━━━━━━━━━━━━━━━━━\u001b[0m\u001b[37m\u001b[0m \u001b[1m0s\u001b[0m 40ms/step\n",
      "C:/Users/rbece/downloads/vochoBprueba.jpg Vocho\n",
      "C:/Users/rbece/downloads/broncoB.jpg Bronco-sport\n",
      "C:/Users/rbece/downloads/sparkB1.jpg Spark\n",
      "C:/Users/rbece/downloads/jettaN.jpg Porsche\n",
      "C:/Users/rbece/downloads/jett.jpg Porsche\n",
      "C:/Users/rbece/downloads/jett1.jpg Jetta\n"
     ]
    }
   ],
   "source": [
    "\n",
    "\n",
    "\n",
    "from skimage.transform import resize\n",
    "\n",
    "images=[]\n",
    "target_size = (21, 37)\n",
    "# AQUI ESPECIFICAMOS UNAS IMAGENES\n",
    "filenames = [\n",
    "    'C:/Users/rbece/downloads/vochoBprueba.jpg',\n",
    "    'C:/Users/rbece/downloads/broncoB.jpg',\n",
    "    'C:/Users/rbece/downloads/sparkB1.jpg',\n",
    "    'C:/Users/rbece/downloads/jettaN.jpg',\n",
    "    'C:/Users/rbece/downloads/jett.jpg',\n",
    "    'C:/Users/rbece/downloads/jett1.jpg',\n",
    "    \n",
    "    \n",
    "]\n",
    "\n",
    "def crop_and_resize(image, target_size):\n",
    "    target_height, target_width = target_size\n",
    "    height, width, _ = image.shape\n",
    "\n",
    "    # Calcular proporción de aspecto de la imagen y del tamaño objetivo\n",
    "    aspect_ratio_img = width / height\n",
    "    aspect_ratio_target = target_width / target_height\n",
    "\n",
    "    # Determinar área a recortar\n",
    "    if aspect_ratio_img > aspect_ratio_target:\n",
    "        # Imagen es más ancha: recortar lados\n",
    "        new_width = int(height * aspect_ratio_target)\n",
    "        left = (width - new_width) // 2\n",
    "        image_cropped = image[:, left:left + new_width]\n",
    "    else:\n",
    "        # Imagen es más alta: recortar arriba y abajo\n",
    "        new_height = int(width / aspect_ratio_target)\n",
    "        top = (height - new_height) // 2\n",
    "        image_cropped = image[top:top + new_height, :]\n",
    "\n",
    "    # Redimensionar la imagen recortada\n",
    "    return resize(image_cropped, target_size, anti_aliasing=True, preserve_range=True).astype(np.uint8)\n",
    "\n",
    "for filepath in filenames:\n",
    "    image = plt.imread(filepath)\n",
    "    processed_image = crop_and_resize(image, target_size)\n",
    "    images.append(processed_image)\n",
    "\n",
    "X = np.array(images, dtype=np.uint8) #convierto de lista a numpy\n",
    "test_X = X.astype('float32')\n",
    "test_X = test_X / 255.\n",
    "\n",
    "predicted_classes = riesgo_model.predict(test_X)\n",
    "\n",
    "for i, img_tagged in enumerate(predicted_classes):\n",
    "    print(filenames[i], sriesgos[img_tagged.tolist().index(max(img_tagged))])"
   ]
  },
  {
   "cell_type": "code",
   "execution_count": 101,
   "id": "af7ea5d3",
   "metadata": {},
   "outputs": [
    {
     "name": "stderr",
     "output_type": "stream",
     "text": [
      "WARNING:absl:Compiled the loaded model, but the compiled metrics have yet to be built. `model.compile_metrics` will be empty until you train or evaluate the model.\n"
     ]
    },
    {
     "name": "stdout",
     "output_type": "stream",
     "text": [
      "\u001b[1m1/1\u001b[0m \u001b[32m━━━━━━━━━━━━━━━━━━━━\u001b[0m\u001b[37m\u001b[0m \u001b[1m0s\u001b[0m 74ms/step\n",
      "C:/Users/rbece/Documents/iaP/img-prueba-coches/vochoc.jpg Jetta\n",
      "C:/Users/rbece/Documents/iaP/img-prueba-coches/Jblanco.jpeg Bronco-sport\n",
      "C:/Users/rbece/Documents/iaP/img-prueba-coches/jettaprueba.jpg Jetta\n",
      "C:/Users/rbece/Documents/iaP/img-prueba-coches/jettaR.jpg Jetta\n",
      "C:/Users/rbece/Documents/iaP/img-prueba-coches/porN.jpg Porsche\n",
      "C:/Users/rbece/Documents/iaP/img-prueba-coches/porB.jpg Porsche\n",
      "C:/Users/rbece/Documents/iaP/img-prueba-coches/porR.jpg Porsche\n",
      "C:/Users/rbece/Documents/iaP/img-prueba-coches/broncoN.jpg Bronco-sport\n",
      "C:/Users/rbece/Documents/iaP/img-prueba-coches/vochoN.jpg Vocho\n",
      "C:/Users/rbece/Documents/iaP/img-prueba-coches/sparkB.jpg Spark\n",
      "C:/Users/rbece/Documents/iaP/img-prueba-coches/VB.jpg Bronco-sport\n"
     ]
    }
   ],
   "source": [
    "import numpy as np\n",
    "import matplotlib.pyplot as plt\n",
    "from skimage.transform import resize\n",
    "from keras.models import load_model\n",
    "\n",
    "# Cargar el modelo h5\n",
    "modelo_h5 = 'C:/Users/rbece/Documents/iaP/dataset-coches/coches32si.h5'\n",
    "riesgo_model = load_model(modelo_h5)\n",
    "\n",
    "images = []\n",
    "target_size = (21, 37)\n",
    "# AQUI ESPECIFICAMOS UNAS IMAGENES\n",
    "filenames = [\n",
    "    'C:/Users/rbece/Documents/iaP/img-prueba-coches/vochoc.jpg',\n",
    "    'C:/Users/rbece/Documents/iaP/img-prueba-coches/Jblanco.jpeg',\n",
    "    'C:/Users/rbece/Documents/iaP/img-prueba-coches/jettaprueba.jpg',\n",
    "    'C:/Users/rbece/Documents/iaP/img-prueba-coches/jettaR.jpg',\n",
    "    'C:/Users/rbece/Documents/iaP/img-prueba-coches/porN.jpg',\n",
    "    'C:/Users/rbece/Documents/iaP/img-prueba-coches/porB.jpg',\n",
    "    'C:/Users/rbece/Documents/iaP/img-prueba-coches/porR.jpg',\n",
    "    'C:/Users/rbece/Documents/iaP/img-prueba-coches/broncoN.jpg',\n",
    "    'C:/Users/rbece/Documents/iaP/img-prueba-coches/vochoN.jpg',\n",
    "    'C:/Users/rbece/Documents/iaP/img-prueba-coches/sparkB.jpg',\n",
    "    'C:/Users/rbece/Documents/iaP/img-prueba-coches/VB.jpg',\n",
    "]\n",
    "\n",
    "def crop_and_resize(image, target_size):\n",
    "    target_height, target_width = target_size\n",
    "    height, width, _ = image.shape\n",
    "\n",
    "    # Calcular proporción de aspecto de la imagen y del tamaño objetivo\n",
    "    aspect_ratio_img = width / height\n",
    "    aspect_ratio_target = target_width / target_height\n",
    "\n",
    "    # Determinar área a recortar\n",
    "    if aspect_ratio_img > aspect_ratio_target:\n",
    "        # Imagen es más ancha: recortar lados\n",
    "        new_width = int(height * aspect_ratio_target)\n",
    "        left = (width - new_width) // 2\n",
    "        image_cropped = image[:, left:left + new_width]\n",
    "    else:\n",
    "        # Imagen es más alta: recortar arriba y abajo\n",
    "        new_height = int(width / aspect_ratio_target)\n",
    "        top = (height - new_height) // 2\n",
    "        image_cropped = image[top:top + new_height, :]\n",
    "\n",
    "    # Redimensionar la imagen recortada\n",
    "    return resize(image_cropped, target_size, anti_aliasing=True, preserve_range=True).astype(np.uint8)\n",
    "\n",
    "for filepath in filenames:\n",
    "    image = plt.imread(filepath)\n",
    "    processed_image = crop_and_resize(image, target_size)\n",
    "    images.append(processed_image)\n",
    "\n",
    "\n",
    "X = np.array(images, dtype=np.uint8)  # Convierto de lista a numpy\n",
    "test_X = X.astype('float32')\n",
    "test_X = test_X / 255.\n",
    "\n",
    "predicted_classes = riesgo_model.predict(test_X)\n",
    "\n",
    "# Asegúrate de tener una lista de etiquetas o categorías en 'sriesgos'\n",
    "sriesgos = ['Bronco-sport', 'Jetta', 'Porsche', 'Spark', 'Vocho']  # Reemplaza con tus etiquetas reales\n",
    "\n",
    "for i, img_tagged in enumerate(predicted_classes):\n",
    "    print(filenames[i], sriesgos[np.argmax(img_tagged)])"
   ]
  },
  {
   "cell_type": "code",
   "execution_count": null,
   "id": "42ac5d02",
   "metadata": {},
   "outputs": [],
   "source": []
  }
 ],
 "metadata": {
  "kernelspec": {
   "display_name": "Python 3 (ipykernel)",
   "language": "python",
   "name": "python3"
  },
  "language_info": {
   "codemirror_mode": {
    "name": "ipython",
    "version": 3
   },
   "file_extension": ".py",
   "mimetype": "text/x-python",
   "name": "python",
   "nbconvert_exporter": "python",
   "pygments_lexer": "ipython3",
   "version": "3.12.7"
  }
 },
 "nbformat": 4,
 "nbformat_minor": 5
}
